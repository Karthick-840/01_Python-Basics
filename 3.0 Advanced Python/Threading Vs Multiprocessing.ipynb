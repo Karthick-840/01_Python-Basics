{
 "cells": [
  {
   "cell_type": "markdown",
   "id": "9a00b9e3",
   "metadata": {},
   "source": [
    "# Process:\n",
    "\n",
    "An instance of a program (e.g., a Python interpreter). It Takes advantage of multiple CPUs and cores. Hence has separate memory space and is not shared between processes.\n",
    "\n",
    "## Pros:\n",
    "\n",
    "1. Great for CPU-bound processing. \n",
    "2. A new process is started independently from other processes.\n",
    "3. Processes are interruptable/killable.\n",
    "4. One GIL for each process avoids GIL limitation.\n",
    "\n",
    "## Cons:\n",
    "\n",
    "1. Heavyweight.\n",
    "2. Starting a process is slower than starting a thread.\n",
    "3. More memory.\n",
    "4. IPC (inter-process communication) is more complicated.\n",
    "\n",
    "\n",
    "# Threads:\n",
    "\n",
    "An entity within a process that can be scheduled (also known as a lightweight process). A process can spawn multiple threads and all threads within a process share the same memory.\n",
    "\n",
    "## Pros:\n",
    "\n",
    "1. Lightweight.\n",
    "2. Starting a thread is faster than starting a process.\n",
    "3. Great for I/O-bound tasks.\n",
    "4. No effect for CPU-bound tasks.\n",
    "\n",
    "\n",
    "## Cons:\n",
    "\n",
    "1. Threading is limited by GIL: Only one thread at a time.\n",
    "2. Not interruptable/killable.\n",
    "3. Careful with race conditions.\n",
    "4. GIL (Global Interpreter Lock):\n",
    "\n",
    "\n",
    "# GIL:\n",
    "\n",
    "A lock that allows only one thread at a time to execute in Python. Needed in CPython because memory management is not thread-safe. (CPython has a reference count varaible that keeps count of number of references an object is connected to the variable)\n",
    "\n",
    "Lightweight process.\n",
    "\n",
    "## Avoid:\n",
    " - Use a different, free-threaded Python implementation (Jython, IronPython).\n",
    " - Use Python as a wrapper for third-party libraries (C/C++) like numpy, Scipy.\n",
    " - Use multiprocessing."
   ]
  },
  {
   "cell_type": "code",
   "execution_count": 8,
   "id": "f685fde1",
   "metadata": {},
   "outputs": [],
   "source": [
    "from multiprocessing import Process\n",
    "import os\n",
    "import time"
   ]
  },
  {
   "cell_type": "code",
   "execution_count": 9,
   "id": "39719a26",
   "metadata": {},
   "outputs": [],
   "source": [
    "def square_numbers():\n",
    "    for i in range(100):\n",
    "        i*i\n",
    "        time.sleep(0.1)\n",
    "        "
   ]
  },
  {
   "cell_type": "code",
   "execution_count": 6,
   "id": "a1acbe64",
   "metadata": {},
   "outputs": [
    {
     "data": {
      "text/plain": [
       "8"
      ]
     },
     "execution_count": 6,
     "metadata": {},
     "output_type": "execute_result"
    }
   ],
   "source": [
    "processes = []\n",
    "num_processes = os.cpu_count()\n",
    "num_processes"
   ]
  },
  {
   "cell_type": "code",
   "execution_count": 14,
   "id": "ac7d33c2",
   "metadata": {},
   "outputs": [],
   "source": [
    "# create processes\n",
    "for i in range(num_processes):\n",
    "    p = Process(target = square_numbers)\n",
    "    processes.append(p)\n"
   ]
  },
  {
   "cell_type": "code",
   "execution_count": 17,
   "id": "a9b062bb",
   "metadata": {},
   "outputs": [
    {
     "name": "stdout",
     "output_type": "stream",
     "text": [
      "end main\n"
     ]
    }
   ],
   "source": [
    "#start\n",
    "for p in processes:\n",
    "    p.start()\n",
    "    \n",
    "# join\n",
    "for p in processes:\n",
    "    p.join()\n",
    "    \n",
    "print('end main')"
   ]
  }
 ],
 "metadata": {
  "kernelspec": {
   "display_name": "Python 3 (ipykernel)",
   "language": "python",
   "name": "python3"
  },
  "language_info": {
   "codemirror_mode": {
    "name": "ipython",
    "version": 3
   },
   "file_extension": ".py",
   "mimetype": "text/x-python",
   "name": "python",
   "nbconvert_exporter": "python",
   "pygments_lexer": "ipython3",
   "version": "3.8.5"
  }
 },
 "nbformat": 4,
 "nbformat_minor": 5
}
