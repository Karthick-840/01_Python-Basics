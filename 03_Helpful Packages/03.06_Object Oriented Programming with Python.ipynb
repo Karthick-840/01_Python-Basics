{
 "cells": [
  {
   "cell_type": "markdown",
   "metadata": {},
   "source": [
    "# Clone Repo for support"
   ]
  },
  {
   "cell_type": "code",
   "execution_count": 1,
   "metadata": {},
   "outputs": [
    {
     "name": "stdout",
     "output_type": "stream",
     "text": [
      "Cloning into 'PythonOOP'...\n",
      "remote: Enumerating objects: 55, done.\u001b[K\n",
      "remote: Counting objects: 100% (55/55), done.\u001b[K\n",
      "remote: Compressing objects: 100% (47/47), done.\u001b[K\n",
      "remote: Total 55 (delta 17), reused 31 (delta 3), pack-reused 0\u001b[K\n",
      "Unpacking objects: 100% (55/55), done.\n"
     ]
    }
   ],
   "source": [
    "!git clone https://github.com/jimdevops19/PythonOOP.git"
   ]
  },
  {
   "cell_type": "markdown",
   "metadata": {},
   "source": [
    "## Getting Started with Classes  - Instance attributes"
   ]
  },
  {
   "cell_type": "code",
   "execution_count": null,
   "metadata": {},
   "outputs": [],
   "source": [
    "item1.name = \"Phone\"\n",
    "item1.price = 100\n",
    "item1.quantity = 5\n",
    "item1_price_total = item1_price*Item1_quantitiy"
   ]
  },
  {
   "cell_type": "code",
   "execution_count": null,
   "metadata": {},
   "outputs": [],
   "source": [
    "# Classes are mainly used to create data types of our own like 'int' or 'str'\n",
    "# Attributes are given to class items\n",
    "# Methods are functions within classes. we cant create emthods without parameteres. Always pass the 'self'. Because the class is passed by default.\n",
    "# constructor - a special 'Method' with unique name (.__init__)"
   ]
  },
  {
   "cell_type": "code",
   "execution_count": 42,
   "metadata": {},
   "outputs": [],
   "source": [
    "\n",
    "class Item:\n",
    "    def calculate_total_price(self,x,y):\n",
    "        return x*y"
   ]
  },
  {
   "cell_type": "code",
   "execution_count": 41,
   "metadata": {},
   "outputs": [
    {
     "name": "stdout",
     "output_type": "stream",
     "text": [
      "I am Created\n",
      "I am Created\n"
     ]
    }
   ],
   "source": [
    "item1 = Item('Phone',100,5)\n",
    "item2 = Item('Laptop',1000,7)\n",
    "item1.name = 'Phone'\n",
    "item1.price = 100\n",
    "item1.quantity = 5\n",
    "\n",
    "item2 = Item()\n",
    "item2.name = 'Laptop'\n",
    "item2.price = 1000\n",
    "item2.quantity = 10"
   ]
  },
  {
   "cell_type": "code",
   "execution_count": 40,
   "metadata": {},
   "outputs": [
    {
     "name": "stdout",
     "output_type": "stream",
     "text": [
      "500\n",
      "10000\n"
     ]
    }
   ],
   "source": [
    "print(item1.calculate_total_price(item1.price, item1.quantity))\n",
    "print(item2.calculate_total_price(item2.price, item2.quantity))"
   ]
  },
  {
   "cell_type": "markdown",
   "metadata": {},
   "source": [
    "## Using Constructors"
   ]
  },
  {
   "cell_type": "code",
   "execution_count": 67,
   "metadata": {},
   "outputs": [],
   "source": [
    "# construcotr functions can also have mandatory and non-mandatory parameters\n",
    "class Item:\n",
    "    def __init__(self,name,price,quantity=0):\n",
    "        print(\"An Instance for '\"+name+\"' is created\")\n",
    "        self.name = name\n",
    "        self.price = price\n",
    "        self.quantity = quantity\n",
    "        \n",
    "    def calculate_total_price(self):\n",
    "        return self.price*self.quantity"
   ]
  },
  {
   "cell_type": "code",
   "execution_count": 68,
   "metadata": {},
   "outputs": [
    {
     "name": "stdout",
     "output_type": "stream",
     "text": [
      "An Instance for 'Phone' is created\n",
      "An Instance for 'Laptop' is created\n",
      "An Instance for 'Dicer' is created\n"
     ]
    }
   ],
   "source": [
    "item1 = Item('Phone',100,5)\n",
    "item2 = Item('Laptop',1000,7)\n",
    "item3 = Item('Dicer',5000)"
   ]
  },
  {
   "cell_type": "code",
   "execution_count": 58,
   "metadata": {},
   "outputs": [
    {
     "data": {
      "text/plain": [
       "0"
      ]
     },
     "execution_count": 58,
     "metadata": {},
     "output_type": "execute_result"
    }
   ],
   "source": [
    "item3.quantity"
   ]
  },
  {
   "cell_type": "code",
   "execution_count": 59,
   "metadata": {},
   "outputs": [],
   "source": [
    "# You can add more atrributes outside the class, e.g\n",
    "item2.notepad = False"
   ]
  },
  {
   "cell_type": "code",
   "execution_count": 63,
   "metadata": {},
   "outputs": [
    {
     "name": "stdout",
     "output_type": "stream",
     "text": [
      "False\n"
     ]
    },
    {
     "ename": "AttributeError",
     "evalue": "'Item' object has no attribute 'notepad'",
     "output_type": "error",
     "traceback": [
      "\u001b[0;31m---------------------------------------------------------------------------\u001b[0m",
      "\u001b[0;31mAttributeError\u001b[0m                            Traceback (most recent call last)",
      "\u001b[0;32m<ipython-input-63-6cb05d2ac408>\u001b[0m in \u001b[0;36m<module>\u001b[0;34m\u001b[0m\n\u001b[1;32m      1\u001b[0m \u001b[0mprint\u001b[0m\u001b[0;34m(\u001b[0m\u001b[0mitem2\u001b[0m\u001b[0;34m.\u001b[0m\u001b[0mnotepad\u001b[0m\u001b[0;34m)\u001b[0m\u001b[0;34m\u001b[0m\u001b[0;34m\u001b[0m\u001b[0m\n\u001b[0;32m----> 2\u001b[0;31m \u001b[0mprint\u001b[0m\u001b[0;34m(\u001b[0m\u001b[0mitem1\u001b[0m\u001b[0;34m.\u001b[0m\u001b[0mnotepad\u001b[0m\u001b[0;34m)\u001b[0m\u001b[0;34m\u001b[0m\u001b[0;34m\u001b[0m\u001b[0m\n\u001b[0m",
      "\u001b[0;31mAttributeError\u001b[0m: 'Item' object has no attribute 'notepad'"
     ]
    }
   ],
   "source": [
    "print(item2.notepad)\n",
    "print(item1.notepad)"
   ]
  },
  {
   "cell_type": "code",
   "execution_count": 69,
   "metadata": {},
   "outputs": [
    {
     "name": "stdout",
     "output_type": "stream",
     "text": [
      "7000\n",
      "500\n"
     ]
    }
   ],
   "source": [
    "print(item2.calculate_total_price())\n",
    "print(item1.calculate_total_price())"
   ]
  },
  {
   "cell_type": "code",
   "execution_count": 70,
   "metadata": {},
   "outputs": [
    {
     "name": "stdout",
     "output_type": "stream",
     "text": [
      "An Instance for 'Mixer' is created\n",
      "100100100100100\n"
     ]
    }
   ],
   "source": [
    "# Things gets screwed up if we dont pass cirrect class to price and quanity. \n",
    "# if we had to pass a string to price or qunaity, the results differes.\n",
    "# Better validate data types inside the constructor function.\n",
    "item4 = Item('Mixer','100',5)\n",
    "print(item4.calculate_total_price())"
   ]
  },
  {
   "cell_type": "code",
   "execution_count": 90,
   "metadata": {},
   "outputs": [],
   "source": [
    "# construcotr functions can also have mandatory and non-mandatory parameters\n",
    "class Item:\n",
    "    def __init__(self,name:str,price:float,quantity=0):\n",
    "        # Run validations to received arguments\n",
    "        assert price >=0, f\"Price '{price}' not greator than zero for {name}!\"\n",
    "        assert quantity>=0, f\"Quantity '{quantity}' not greator than zero for {name}!\"\n",
    "        \n",
    "        \n",
    "        # Assin to self objects\n",
    "        self.name = name\n",
    "        self.price = price\n",
    "        self.quantity = quantity\n",
    "        print(f\"An Instance for '{name}' is created\")\n",
    "\n",
    "    def calculate_total_price(self):\n",
    "        return self.price*self.quantity"
   ]
  },
  {
   "cell_type": "code",
   "execution_count": 89,
   "metadata": {},
   "outputs": [
    {
     "name": "stdout",
     "output_type": "stream",
     "text": [
      "An Instance for 'Tablet' is created\n"
     ]
    },
    {
     "ename": "AssertionError",
     "evalue": "Quantity '-5' not greator than zero!",
     "output_type": "error",
     "traceback": [
      "\u001b[0;31m---------------------------------------------------------------------------\u001b[0m",
      "\u001b[0;31mAssertionError\u001b[0m                            Traceback (most recent call last)",
      "\u001b[0;32m<ipython-input-89-2145e91ca830>\u001b[0m in \u001b[0;36m<module>\u001b[0;34m\u001b[0m\n\u001b[1;32m      1\u001b[0m \u001b[0mitem5\u001b[0m \u001b[0;34m=\u001b[0m \u001b[0mItem\u001b[0m\u001b[0;34m(\u001b[0m\u001b[0;34m'Tablet'\u001b[0m\u001b[0;34m,\u001b[0m\u001b[0;36m300\u001b[0m\u001b[0;34m,\u001b[0m\u001b[0;36m5\u001b[0m\u001b[0;34m)\u001b[0m\u001b[0;34m\u001b[0m\u001b[0;34m\u001b[0m\u001b[0m\n\u001b[0;32m----> 2\u001b[0;31m \u001b[0mitem6\u001b[0m \u001b[0;34m=\u001b[0m \u001b[0mItem\u001b[0m\u001b[0;34m(\u001b[0m\u001b[0;34m'Blender'\u001b[0m\u001b[0;34m,\u001b[0m\u001b[0;36m150\u001b[0m\u001b[0;34m,\u001b[0m\u001b[0;34m-\u001b[0m\u001b[0;36m5\u001b[0m\u001b[0;34m)\u001b[0m\u001b[0;34m\u001b[0m\u001b[0;34m\u001b[0m\u001b[0m\n\u001b[0m",
      "\u001b[0;32m<ipython-input-88-a4f7a1dc3f61>\u001b[0m in \u001b[0;36m__init__\u001b[0;34m(self, name, price, quantity)\u001b[0m\n\u001b[1;32m      4\u001b[0m         \u001b[0;31m# Run validations to received arguments\u001b[0m\u001b[0;34m\u001b[0m\u001b[0;34m\u001b[0m\u001b[0;34m\u001b[0m\u001b[0m\n\u001b[1;32m      5\u001b[0m         \u001b[0;32massert\u001b[0m \u001b[0mprice\u001b[0m \u001b[0;34m>=\u001b[0m\u001b[0;36m0\u001b[0m\u001b[0;34m,\u001b[0m \u001b[0;34mf\"Price '{price}' not greator than zero!\"\u001b[0m\u001b[0;34m\u001b[0m\u001b[0;34m\u001b[0m\u001b[0m\n\u001b[0;32m----> 6\u001b[0;31m         \u001b[0;32massert\u001b[0m \u001b[0mquantity\u001b[0m\u001b[0;34m>=\u001b[0m\u001b[0;36m0\u001b[0m\u001b[0;34m,\u001b[0m \u001b[0;34mf\"Quantity '{quantity}' not greator than zero!\"\u001b[0m\u001b[0;34m\u001b[0m\u001b[0;34m\u001b[0m\u001b[0m\n\u001b[0m\u001b[1;32m      7\u001b[0m \u001b[0;34m\u001b[0m\u001b[0m\n\u001b[1;32m      8\u001b[0m \u001b[0;34m\u001b[0m\u001b[0m\n",
      "\u001b[0;31mAssertionError\u001b[0m: Quantity '-5' not greator than zero!"
     ]
    }
   ],
   "source": [
    "item5 = Item('Tablet',300,5)\n",
    "item6 = Item('Blender',150,-5)\n"
   ]
  },
  {
   "cell_type": "markdown",
   "metadata": {},
   "source": [
    "## Class Attributes"
   ]
  },
  {
   "cell_type": "code",
   "execution_count": 121,
   "metadata": {},
   "outputs": [],
   "source": [
    "# construcotr functions can also have mandatory and non-mandatory parameters\n",
    "class Item:\n",
    "    pay_rate = 0.8 # The  pay rate after 20% discount. This is a class attribute.\n",
    "    def __init__(self,name:str,price:float,quantity=0):\n",
    "        # Run validations to received arguments\n",
    "        assert price >=0, f\"Price '{price}' not greator than zero for {name}!\"\n",
    "        assert quantity>=0, f\"Quantity '{quantity}' not greator than zero for {name}!\"\n",
    "        \n",
    "        \n",
    "        # Assin to self objects\n",
    "        self.name = name\n",
    "        self.price = price\n",
    "        self.quantity = quantity\n",
    "        print(f\"An Instance for '{name}' is created\")\n",
    "\n",
    "    def calculate_total_price(self):\n",
    "        return self.price*self.quantity\n",
    "    \n",
    "    def apply_discount(self):\n",
    "        self.price = self.price*self.pay_rate"
   ]
  },
  {
   "cell_type": "code",
   "execution_count": 117,
   "metadata": {},
   "outputs": [
    {
     "name": "stdout",
     "output_type": "stream",
     "text": [
      "An Instance for 'Charger' is created\n"
     ]
    }
   ],
   "source": [
    "item6 = Item('Charger',50,100)"
   ]
  },
  {
   "cell_type": "code",
   "execution_count": 100,
   "metadata": {},
   "outputs": [
    {
     "name": "stdout",
     "output_type": "stream",
     "text": [
      "0.8\n",
      "0.8\n"
     ]
    }
   ],
   "source": [
    "print(Item.pay_rate)\n",
    "print(item6.pay_rate)\n",
    "# Python looks for atribute at instance level first and than the class level"
   ]
  },
  {
   "cell_type": "code",
   "execution_count": 102,
   "metadata": {},
   "outputs": [
    {
     "name": "stdout",
     "output_type": "stream",
     "text": [
      "{'__module__': '__main__', 'pay_rate': 0.8, '__init__': <function Item.__init__ at 0x7f057b3f9290>, 'calculate_total_price': <function Item.calculate_total_price at 0x7f057b3f9170>, '__dict__': <attribute '__dict__' of 'Item' objects>, '__weakref__': <attribute '__weakref__' of 'Item' objects>, '__doc__': None}\n",
      "{'name': 'Charger', 'price': 50, 'quantity': 100}\n"
     ]
    }
   ],
   "source": [
    "# getting all the attributes for a class level\n",
    "print(Item.__dict__)\n",
    "print(item6.__dict__)"
   ]
  },
  {
   "cell_type": "code",
   "execution_count": 122,
   "metadata": {},
   "outputs": [
    {
     "name": "stdout",
     "output_type": "stream",
     "text": [
      "An Instance for 'Charger' is created\n"
     ]
    }
   ],
   "source": [
    "item6 = Item('Charger',50,100)"
   ]
  },
  {
   "cell_type": "code",
   "execution_count": 123,
   "metadata": {},
   "outputs": [
    {
     "name": "stdout",
     "output_type": "stream",
     "text": [
      "Price:50\n",
      "After 80.0% discount:40.0\n"
     ]
    }
   ],
   "source": [
    "print(f\"Price:{item6.price}\")\n",
    "item6.apply_discount()\n",
    "print(f\"After {item6.pay_rate*100}% discount:{item6.price}\")"
   ]
  },
  {
   "cell_type": "code",
   "execution_count": 124,
   "metadata": {},
   "outputs": [
    {
     "name": "stdout",
     "output_type": "stream",
     "text": [
      "An Instance for 'Adapter' is created\n"
     ]
    }
   ],
   "source": [
    "item7 = Item('Adapter',75,50)\n",
    "item7.pay_rate = 0.7"
   ]
  },
  {
   "cell_type": "code",
   "execution_count": 125,
   "metadata": {},
   "outputs": [
    {
     "name": "stdout",
     "output_type": "stream",
     "text": [
      "Price:75\n",
      "After 70.0% discount:52.5\n"
     ]
    }
   ],
   "source": [
    "print(f\"Price:{item7.price}\")\n",
    "item7.apply_discount()\n",
    "print(f\"After {item7.pay_rate*100}% discount:{item7.price}\")"
   ]
  },
  {
   "cell_type": "markdown",
   "metadata": {},
   "source": [
    "### Appending all instances into one list for wasy access"
   ]
  },
  {
   "cell_type": "code",
   "execution_count": 151,
   "metadata": {},
   "outputs": [],
   "source": [
    "\n",
    "class Item:\n",
    "    all = []\n",
    "    def __init__(self,name:str,price:float,quantity=0):\n",
    "        # Run validations to received arguments\n",
    "        assert price >=0, f\"Price '{price}' not greator than zero for {name}!\"\n",
    "        assert quantity>=0, f\"Quantity '{quantity}' not greator than zero for {name}!\"\n",
    "        \n",
    "        \n",
    "        # Assin to self objects\n",
    "        self.name = name\n",
    "        self.price = price\n",
    "        self.quantity = quantity\n",
    "        print(f\"An Instance for '{name}' is created\")\n",
    "        \n",
    "        Item.all.append(self)\n",
    "\n",
    "    def calculate_total_price(self):\n",
    "        return self.price*self.quantity\n",
    "    \n",
    "    def apply_discount(self):\n",
    "        self.price = self.price*self.pay_rate\n",
    "        \n",
    "    def __repr__(self):\n",
    "        # Like constructor like __init__, there is another magic method called \"__repr__\"\n",
    "        return f\"Item('{self.name}',{self.price},{self.quantity})\""
   ]
  },
  {
   "cell_type": "code",
   "execution_count": 152,
   "metadata": {},
   "outputs": [
    {
     "name": "stdout",
     "output_type": "stream",
     "text": [
      "An Instance for 'Phone' is created\n",
      "An Instance for 'Laptop' is created\n",
      "An Instance for 'Cable' is created\n",
      "An Instance for 'Mouse' is created\n",
      "An Instance for 'Keyboard' is created\n"
     ]
    }
   ],
   "source": [
    "item1 = Item(\"Phone\", 600, 1)\n",
    "item2 = Item(\"Laptop\", 1000, 3)\n",
    "item3 = Item(\"Cable\", 10, 5)\n",
    "item4 = Item(\"Mouse\", 50, 5)\n",
    "item5 = Item(\"Keyboard\", 75, 5)"
   ]
  },
  {
   "cell_type": "code",
   "execution_count": 153,
   "metadata": {},
   "outputs": [
    {
     "name": "stdout",
     "output_type": "stream",
     "text": [
      "[Item('Phone',600,1), Item('Laptop',1000,3), Item('Cable',10,5), Item('Mouse',50,5), Item('Keyboard',75,5)]\n"
     ]
    }
   ],
   "source": [
    "print(Item.all)"
   ]
  },
  {
   "cell_type": "code",
   "execution_count": 154,
   "metadata": {},
   "outputs": [
    {
     "name": "stdout",
     "output_type": "stream",
     "text": [
      "The price of 'Phone' is EUR 600\n",
      "The price of 'Laptop' is EUR 1000\n",
      "The price of 'Cable' is EUR 10\n",
      "The price of 'Mouse' is EUR 50\n",
      "The price of 'Keyboard' is EUR 75\n"
     ]
    }
   ],
   "source": [
    "for instance in Item.all:\n",
    "    print(f\"The price of '{instance.name}' is EUR {instance.price}\")"
   ]
  },
  {
   "cell_type": "markdown",
   "metadata": {},
   "source": [
    "## Class Vs Static Methods"
   ]
  },
  {
   "cell_type": "code",
   "execution_count": 156,
   "metadata": {},
   "outputs": [
    {
     "name": "stderr",
     "output_type": "stream",
     "text": [
      "/home/ubuntu/.local/lib/python3.7/site-packages/setuptools/_importlib.py:23: UserWarning: `importlib-metadata` version is incompatible with `setuptools`.\n",
      "This problem is likely to be solved by installing an updated version of `importlib-metadata`.\n",
      "  warnings.warn(msg)  # Ensure a descriptive message is shown.\n",
      "/usr/local/anaconda/lib/python3.7/site-packages/pandas/compat/_optional.py:138: UserWarning: Pandas requires version '2.7.0' or newer of 'numexpr' (version '2.6.9' currently installed).\n",
      "  warnings.warn(msg, UserWarning)\n"
     ]
    }
   ],
   "source": [
    "import pandas as pd"
   ]
  },
  {
   "cell_type": "code",
   "execution_count": 228,
   "metadata": {},
   "outputs": [],
   "source": [
    "import csv\n",
    "class Item:\n",
    "    # Creating a class method using a decorator. Instead of self, the entire class reference is passed as 'cls' as an argument\n",
    "    @classmethod\n",
    "    def instantiate_from_csv(cls,path):\n",
    "        with open(path,'r') as f:\n",
    "            reader =csv.DictReader(f)\n",
    "            items = list(reader)\n",
    "        \n",
    "        for item in items:\n",
    "            Item(name=item.get('name'),price=float(item.get('price')),quantity=float(item.get('quantity')))\n",
    "    \n",
    "    # Unlike class method, it receives parameters like regular parameters.\n",
    "    @staticmethod        \n",
    "    def is_integer(num):\n",
    "        # We will count out the floats that are point zero like 5.0 or 10.0\n",
    "        if isinstance(num,float):\n",
    "            # count out the floats that are point zero\n",
    "            return num.is_integer()\n",
    "        elif isinstance(num,int):\n",
    "            return True\n",
    "        else:\n",
    "            return False\n",
    "        \n",
    "    all = []\n",
    "    def __init__(self,name:str,price:float,quantity=0):\n",
    "        # Run validations to received arguments\n",
    "        assert price >=0, f\"Price '{price}' not greator than zero for {name}!\"\n",
    "        assert quantity>=0, f\"Quantity '{quantity}' not greator than zero for {name}!\"\n",
    "        \n",
    "        \n",
    "        # Assin to self objects\n",
    "        self.name = name\n",
    "        self.price = price\n",
    "        self.quantity = quantity\n",
    "        print(f\"An Instance for '{name}' is created\")\n",
    "        \n",
    "        Item.all.append(self)\n",
    "\n",
    "    def calculate_total_price(self):\n",
    "        return self.price*self.quantity\n",
    "    \n",
    "    def apply_discount(self):\n",
    "        self.price = self.price*self.pay_rate\n",
    "        \n",
    "    def __repr__(self):\n",
    "        # Like constructor like __init__, there is another magic method called \"__repr__\"\n",
    "        # Changing it to generic by getting class name info before prining\n",
    "        return f\"{self.__class__.__name__}('{self.name}',{self.price},{self.quantity})\""
   ]
  },
  {
   "cell_type": "code",
   "execution_count": 197,
   "metadata": {},
   "outputs": [],
   "source": [
    "del Item"
   ]
  },
  {
   "cell_type": "code",
   "execution_count": 200,
   "metadata": {},
   "outputs": [
    {
     "name": "stdout",
     "output_type": "stream",
     "text": [
      "An Instance for 'Phone' is created\n",
      "An Instance for 'Laptop' is created\n",
      "An Instance for 'Cable' is created\n",
      "An Instance for 'Mouse' is created\n",
      "An Instance for 'Keyboard' is created\n"
     ]
    }
   ],
   "source": [
    "file_path='/mnt/Exercises/Public_data/0_Training/PythonOOP/04 - Class vs Static Methods/codesnippets/items.csv'\n",
    "Item.instantiate_from_csv(file_path)"
   ]
  },
  {
   "cell_type": "code",
   "execution_count": null,
   "metadata": {},
   "outputs": [],
   "source": [
    "class Item:\n",
    "    @staticmethod\n",
    "    def is_integer():\n",
    "        '''\n",
    "        This should do something that has a relationship\n",
    "        with the class, but not something that must be unique\n",
    "        per instance!\n",
    "        '''\n",
    "    @classmethod\n",
    "    def instantiate_from_something(cls):\n",
    "        '''\n",
    "        This should also do something that has a relationship\n",
    "        with the class, but usually, those are used to\n",
    "        manipulate different structures of data to instantiate\n",
    "        objects, like we have done with CSV.\n",
    "        '''\n",
    "\n",
    "# THE ONLY DIFFERENCE BETWEEN THOSE:\n",
    "# Static methods are not passing the object reference as the first argument in the background!\n",
    "\n",
    "\n",
    "# NOTE: However, those could be also called from instances.\n",
    "\n",
    "item1 = Item()\n",
    "item1.is_integer()\n",
    "item1.instantiate_from_something()"
   ]
  },
  {
   "cell_type": "markdown",
   "metadata": {},
   "source": [
    "## Inheritence\n",
    "### Parent Class and Children Class"
   ]
  },
  {
   "cell_type": "code",
   "execution_count": 230,
   "metadata": {},
   "outputs": [],
   "source": [
    "# Item is the parent class here and now we create children class\n",
    "# Using Super fucntion to inherit functions from parent function\n",
    "class Phone(Item):\n",
    "    def __init__(self,name:str,price:float,quantity=0,broken_phones=0):\n",
    "        # call to super function to have access to all attributes/methods\n",
    "        super().__init__(name,price,quantity)\n",
    "        \n",
    "        assert broken_phones>=0, f\"Broken phones '{broken_phones}' not greator than zero for {name}!\"\n",
    "        \n",
    "        # Assin to self objects\n",
    "        self.broken_phones = broken_phones\n",
    "        print(f\"An Instance for '{name}' with {broken_phones} broken objects is added\")"
   ]
  },
  {
   "cell_type": "code",
   "execution_count": 231,
   "metadata": {},
   "outputs": [
    {
     "name": "stdout",
     "output_type": "stream",
     "text": [
      "An Instance for 'jscPhonev10' is created\n",
      "An Instance for 'jscPhonev10' with 1 broken objects is added\n",
      "An Instance for 'jscPhonev50' is created\n",
      "An Instance for 'jscPhonev50' with 1 broken objects is added\n"
     ]
    }
   ],
   "source": [
    "phone1 = Phone(\"jscPhonev10\", 500, 5, 1)\n",
    "phone2 = Phone(\"jscPhonev50\", 1000, 10, 1)"
   ]
  },
  {
   "cell_type": "code",
   "execution_count": 226,
   "metadata": {},
   "outputs": [
    {
     "name": "stdout",
     "output_type": "stream",
     "text": [
      "10000\n",
      "2500\n"
     ]
    }
   ],
   "source": [
    "# Calling an funciton form Parent \"Item\" Class\n",
    "print(phone2.calculate_total_price())\n",
    "print(phone1.calculate_total_price())"
   ]
  },
  {
   "cell_type": "code",
   "execution_count": 233,
   "metadata": {},
   "outputs": [
    {
     "name": "stdout",
     "output_type": "stream",
     "text": [
      "[Phone('jscPhonev10',500,5), Phone('jscPhonev50',1000,10)]\n",
      "[Phone('jscPhonev10',500,5), Phone('jscPhonev50',1000,10)]\n"
     ]
    }
   ],
   "source": [
    "print(Phone.all)\n",
    "print(Item.all)"
   ]
  },
  {
   "cell_type": "markdown",
   "metadata": {},
   "source": [
    "## Getters and Setters"
   ]
  },
  {
   "cell_type": "code",
   "execution_count": 277,
   "metadata": {},
   "outputs": [],
   "source": [
    "del Item"
   ]
  },
  {
   "cell_type": "code",
   "execution_count": 278,
   "metadata": {},
   "outputs": [],
   "source": [
    "from Item import Item"
   ]
  },
  {
   "cell_type": "code",
   "execution_count": 279,
   "metadata": {},
   "outputs": [
    {
     "name": "stdout",
     "output_type": "stream",
     "text": [
      "An Instance for 'LaptopDELLv10' is created\n",
      "An Instance for 'LaptopLENOVOv10' is created\n",
      "An Instance for 'LaptopHPv10' is created\n"
     ]
    }
   ],
   "source": [
    "laptop1 = Item(\"LaptopDELLv10\", 500, 5)\n",
    "laptop2 = Item(\"LaptopLENOVOv10\", 600, 15)\n",
    "laptop3 = Item(\"LaptopHPv10\", 900, 8)"
   ]
  },
  {
   "cell_type": "code",
   "execution_count": 280,
   "metadata": {},
   "outputs": [
    {
     "data": {
      "text/plain": [
       "7200"
      ]
     },
     "execution_count": 280,
     "metadata": {},
     "output_type": "execute_result"
    }
   ],
   "source": [
    "laptop3.calculate_total_price()"
   ]
  },
  {
   "cell_type": "code",
   "execution_count": 281,
   "metadata": {},
   "outputs": [
    {
     "name": "stdout",
     "output_type": "stream",
     "text": [
      "LaptopHPv10\n"
     ]
    }
   ],
   "source": [
    "print(laptop3.name)"
   ]
  },
  {
   "cell_type": "code",
   "execution_count": 282,
   "metadata": {},
   "outputs": [],
   "source": [
    "laptop3.name = \"Other_name\""
   ]
  },
  {
   "cell_type": "code",
   "execution_count": 283,
   "metadata": {},
   "outputs": [
    {
     "data": {
      "text/plain": [
       "'Other_name'"
      ]
     },
     "execution_count": 283,
     "metadata": {},
     "output_type": "execute_result"
    }
   ],
   "source": [
    "laptop3.name"
   ]
  },
  {
   "cell_type": "code",
   "execution_count": 246,
   "metadata": {},
   "outputs": [
    {
     "name": "stdout",
     "output_type": "stream",
     "text": [
      "An Instance for 'jscPhonev10' is created\n",
      "An Instance for 'jscPhonev10' with 1 broken objects is added\n",
      "An Instance for 'jscPhonev50' is created\n",
      "An Instance for 'jscPhonev50' with 1 broken objects is added\n"
     ]
    }
   ],
   "source": [
    "phone1 = Phone(\"jscPhonev10\", 500, 5, 1)\n",
    "phone2 = Phone(\"jscPhonev50\", 1000, 10, 1)"
   ]
  },
  {
   "cell_type": "code",
   "execution_count": 247,
   "metadata": {},
   "outputs": [
    {
     "name": "stdout",
     "output_type": "stream",
     "text": [
      "10000\n",
      "2500\n"
     ]
    }
   ],
   "source": [
    "# Calling an funciton form Parent \"Item\" Class\n",
    "print(phone2.calculate_total_price())\n",
    "print(phone1.calculate_total_price())"
   ]
  },
  {
   "cell_type": "code",
   "execution_count": 276,
   "metadata": {},
   "outputs": [
    {
     "name": "stdout",
     "output_type": "stream",
     "text": [
      "[Item('LaptopDELLv10',500,5), Item('LaptopLENOVOv10',600,15), Item('LaptopHPv10',900,8), Item('LaptopDELLv10',500,5), Item('LaptopLENOVOv10',600,15), Item('LaptopHPv10',900,8), Phone('jscPhonev10',500,5), Phone('jscPhonev50',1000,10), Item('Changed',500,5), Item('LaptopLENOVOv10',600,15), Item('LaptopHPv10',900,8), Item('LaptopDELLv10',500,5), Item('LaptopLENOVOv10',600,15), Item('LaptopHPv10',900,8), Item('LaptopDELLv10',500,5), Item('LaptopLENOVOv10',600,15), Item('Other_name',900,8), Item('LaptopDELLv10',500,5), Item('LaptopLENOVOv10',600,15), Item('Other_name',900,8)]\n"
     ]
    }
   ],
   "source": [
    "print(Item.all)"
   ]
  },
  {
   "cell_type": "code",
   "execution_count": null,
   "metadata": {},
   "outputs": [],
   "source": [
    "# ENCAPSULATION  = HAVING A READ-ONLY ATTRIBUTE"
   ]
  },
  {
   "cell_type": "code",
   "execution_count": 253,
   "metadata": {},
   "outputs": [],
   "source": [
    "laptop1.name=\"Changed\""
   ]
  },
  {
   "cell_type": "markdown",
   "metadata": {},
   "source": [
    "### OPPS Principles"
   ]
  },
  {
   "cell_type": "markdown",
   "metadata": {},
   "source": [
    "##### Encapsulation"
   ]
  },
  {
   "cell_type": "code",
   "execution_count": null,
   "metadata": {},
   "outputs": [],
   "source": [
    "# restricitng the ability to change the value of attributes"
   ]
  },
  {
   "cell_type": "code",
   "execution_count": null,
   "metadata": {},
   "outputs": [],
   "source": []
  },
  {
   "cell_type": "code",
   "execution_count": null,
   "metadata": {},
   "outputs": [],
   "source": []
  },
  {
   "cell_type": "code",
   "execution_count": null,
   "metadata": {},
   "outputs": [],
   "source": []
  },
  {
   "cell_type": "code",
   "execution_count": null,
   "metadata": {},
   "outputs": [],
   "source": []
  }
 ],
 "metadata": {
  "kernelspec": {
   "display_name": "Python 3",
   "language": "python",
   "name": "python3"
  },
  "language_info": {
   "codemirror_mode": {
    "name": "ipython",
    "version": 3
   },
   "file_extension": ".py",
   "mimetype": "text/x-python",
   "name": "python",
   "nbconvert_exporter": "python",
   "pygments_lexer": "ipython3",
   "version": "3.7.6"
  }
 },
 "nbformat": 4,
 "nbformat_minor": 2
}
