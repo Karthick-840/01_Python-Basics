{
 "cells": [
  {
   "cell_type": "markdown",
   "metadata": {},
   "source": [
    "## Face Detection"
   ]
  },
  {
   "cell_type": "code",
   "execution_count": null,
   "metadata": {},
   "outputs": [],
   "source": [
    "!git clone https://github.com/jasmcaus/opencv-course\n",
    "!git clone https://github.com/jasmcaus/caer\n",
    "!pip install caer"
   ]
  },
  {
   "cell_type": "code",
   "execution_count": null,
   "metadata": {},
   "outputs": [],
   "source": [
    "import urllib\n",
    "import urllib.request"
   ]
  },
  {
   "cell_type": "code",
   "execution_count": null,
   "metadata": {},
   "outputs": [],
   "source": [
    "urllib.request.urlretrieve(\"https://static01.nyt.com/images/2020/11/19/us/artificial-intelligence-fake-people-faces-promo-1605818328743/artificial-intelligence-fake-people-faces-promo-1605818328743-facebookJumbo-v3.jpg\",\"Face-Sample.jpg\")\n"
   ]
  },
  {
   "cell_type": "code",
   "execution_count": null,
   "metadata": {},
   "outputs": [],
   "source": [
    "Face_image =  cv.imread('Face-Sample.jpg')\n",
    "Face_gray = cv.cvtColor(Face_image,cv.COLOR_BGR2GRAY)\n",
    "imgshow(Face_image)\n",
    "imgshow(Face_gray)"
   ]
  },
  {
   "cell_type": "code",
   "execution_count": null,
   "metadata": {},
   "outputs": [],
   "source": [
    "haar_cascade=cv.CascadeClassifier(cv.data.haarcascades +'haarcascade_frontalface_default.xml')"
   ]
  },
  {
   "cell_type": "code",
   "execution_count": null,
   "metadata": {},
   "outputs": [],
   "source": [
    "face_rect = haar_cascade.detectMultiScale(Face_gray,scaleFactor = 1.1,minNeighbors=8)\n",
    "print(f'Number of faces found = {len(face_rect)}')"
   ]
  },
  {
   "cell_type": "code",
   "execution_count": null,
   "metadata": {},
   "outputs": [],
   "source": [
    "for (x,y,w,h) in face_rect:\n",
    "    cv.rectangle(Face_image,(x,y),(x+w,y+h),(0,255,0),thickness=2)\n",
    "imgshow(Face_image)"
   ]
  },
  {
   "cell_type": "code",
   "execution_count": null,
   "metadata": {},
   "outputs": [],
   "source": [
    "people = ['Ben Afflek','Elton John','Jerry Seinfield','Madonna','Mindy Kaling']"
   ]
  },
  {
   "cell_type": "code",
   "execution_count": null,
   "metadata": {},
   "outputs": [],
   "source": [
    "DIR = '/mnt/Exercises/OpenCV/opencv-course/Resources/Faces/train'\n",
    "features = []\n",
    "labels =[]\n",
    "\n",
    "def create_train():\n",
    "    for person in people:\n",
    "        path = os.path.join(DIR,person)\n",
    "        label=people.index(person)\n",
    "        \n",
    "        for img in os.listdir(path):\n",
    "            img_path =  os.path.join(path,img)\n",
    "            \n",
    "            img_array=cv.imread(img_path)\n",
    "            gray=cv.cvtColor(img_array,cv.COLOR_BGR2GRAY)\n",
    "            \n",
    "            faces_rect = haar_cascade.detectMultiScale(gray,scaleFactor=1.1,minNeighbors=4)\n",
    "            for (x,y,w,h) in faces_rect:\n",
    "                faces_roi = gray[y:y+h,x:x+w]\n",
    "                features.append(faces_roi)\n",
    "                labels.append(label)"
   ]
  },
  {
   "cell_type": "code",
   "execution_count": null,
   "metadata": {},
   "outputs": [],
   "source": [
    "create_train()\n",
    "print(f'Length of the geatures = {len(features)}')\n",
    "print(f'Length of the geatures = {len(labels)}')"
   ]
  },
  {
   "cell_type": "code",
   "execution_count": null,
   "metadata": {},
   "outputs": [],
   "source": [
    "import cv2 as cv\n",
    "print(dir (cvface))"
   ]
  },
  {
   "cell_type": "code",
   "execution_count": null,
   "metadata": {},
   "outputs": [],
   "source": [
    "face_recognizer = cv.face.LBPHFaceRecognizer_create()\n",
    "features = np.array(features,dtype='object')\n",
    "labels = np.array(labels)\n",
    "feature_recognizer.train(features,labels)\n",
    "np.save('features.npy',features)\n",
    "np.save(labels.npy,labels)"
   ]
  },
  {
   "cell_type": "markdown",
   "metadata": {},
   "source": [
    "## Deep Computer Vision"
   ]
  },
  {
   "cell_type": "code",
   "execution_count": null,
   "metadata": {},
   "outputs": [],
   "source": [
    "!pip install --user canaro"
   ]
  },
  {
   "cell_type": "code",
   "execution_count": null,
   "metadata": {},
   "outputs": [],
   "source": [
    "!pip install --user kaggle"
   ]
  },
  {
   "cell_type": "code",
   "execution_count": null,
   "metadata": {},
   "outputs": [],
   "source": [
    "import canaro\n",
    "import caer\n"
   ]
  },
  {
   "cell_type": "code",
   "execution_count": null,
   "metadata": {},
   "outputs": [],
   "source": [
    "import os\n",
    "os.environ['KAGGLE_CONFIG_DIR'] = \"/mnt/\""
   ]
  },
  {
   "cell_type": "code",
   "execution_count": null,
   "metadata": {},
   "outputs": [],
   "source": [
    "export KAGGLE_USERNAME=\"karthickjayaraman\"\n",
    "export KAGGLE_KEY=\"681f4eaa760159edc7415dd476018cfa\""
   ]
  },
  {
   "cell_type": "code",
   "execution_count": null,
   "metadata": {},
   "outputs": [],
   "source": [
    "!kaggle datasets list -s demographics"
   ]
  },
  {
   "cell_type": "code",
   "execution_count": null,
   "metadata": {},
   "outputs": [],
   "source": [
    "urllib.request.urlretrieve(\"https://www.kaggle.com/alexattia/the-simpsons-characters-dataset/download\")\n"
   ]
  },
  {
   "cell_type": "code",
   "execution_count": null,
   "metadata": {},
   "outputs": [],
   "source": [
    "average = cv.blur(img,(7,7))\n",
    "gauss = cv,GaussianBlur(img,(7,7),0)\n",
    "median = cv.medianBlur(img,3)\n",
    "bilateral = cv.bilateralFilter(img,15,15)"
   ]
  },
  {
   "cell_type": "code",
   "execution_count": null,
   "metadata": {},
   "outputs": [],
   "source": [
    "bitwise_and = cv.bitwise_and(rectangle,circle) \n",
    "bitwise_or = cv.bitwise_or(rectangle,circle) \n",
    "bitwise_xor = cv.bitwise_xor(rectangle,circle) \n",
    "bitwise_not = cv.bitwise_not(circle) "
   ]
  },
  {
   "cell_type": "code",
   "execution_count": null,
   "metadata": {},
   "outputs": [],
   "source": [
    "gray_histv = cv.calcHist([img],[i],None,[256])\n",
    "threshold,thresh = cv.threshold(gray,150,255,cv.THRESH_BINARY_INV)\n",
    "Adthresh = cv.adaptiveThreshold(gray,255,cv.ADAPTIVE_THRESH_BINARY_MEAN_C,cv.THRESH_BINARY)"
   ]
  },
  {
   "cell_type": "code",
   "execution_count": null,
   "metadata": {},
   "outputs": [],
   "source": [
    "cv.Laplacian(gray,cv.CV_64F)\n",
    "sobelx=cv.Sobel(gray,cv.CV_64F,1,0)\n",
    "sobely=cv.Sobel(gray,cv.CV_64F,0,1)\n",
    "combined_sobel = cv.bitwise_or(sobelx,sobely)"
   ]
  },
  {
   "cell_type": "code",
   "execution_count": null,
   "metadata": {},
   "outputs": [],
   "source": []
  },
  {
   "cell_type": "code",
   "execution_count": null,
   "metadata": {},
   "outputs": [],
   "source": []
  },
  {
   "cell_type": "code",
   "execution_count": null,
   "metadata": {},
   "outputs": [],
   "source": []
  }
 ],
 "metadata": {
  "kernelspec": {
   "display_name": "Python 3",
   "language": "python",
   "name": "python3"
  },
  "language_info": {
   "codemirror_mode": {
    "name": "ipython",
    "version": 3
   },
   "file_extension": ".py",
   "mimetype": "text/x-python",
   "name": "python",
   "nbconvert_exporter": "python",
   "pygments_lexer": "ipython3",
   "version": "3.7.7"
  }
 },
 "nbformat": 4,
 "nbformat_minor": 2
}