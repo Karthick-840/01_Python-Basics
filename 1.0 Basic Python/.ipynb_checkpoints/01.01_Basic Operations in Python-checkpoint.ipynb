{
 "cells": [
  {
   "cell_type": "markdown",
   "metadata": {},
   "source": [
    "<h1 style = \"font-size:3rem;color:orange;\">Python in Jupyter Tutorial </h1>"
   ]
  },
  {
   "cell_type": "markdown",
   "metadata": {},
   "source": [
    "<img src = \"https://5.imimg.com/data5/QY/TP/MZ/SELLER-10578244/python-training-course-500x500.jpeg\">"
   ]
  },
  {
   "cell_type": "markdown",
   "metadata": {},
   "source": [
    "## Basics and Variables\n",
    "- Python's fundamental syntax involves variable assignments, printing output, and user input. \n",
    "- Variables store various data types, including integers, floats, strings, and booleans."
   ]
  },
  {
   "cell_type": "code",
   "execution_count": 3,
   "metadata": {},
   "outputs": [
    {
     "name": "stdout",
     "output_type": "stream",
     "text": [
      "Hello World!\n"
     ]
    }
   ],
   "source": [
    "print(\"Hello World!\")"
   ]
  },
  {
   "cell_type": "code",
   "execution_count": 4,
   "metadata": {},
   "outputs": [
    {
     "name": "stdout",
     "output_type": "stream",
     "text": [
      "20\n"
     ]
    },
    {
     "name": "stdin",
     "output_type": "stream",
     "text": [
      "what's your name?: Karthick\n"
     ]
    },
    {
     "name": "stdout",
     "output_type": "stream",
     "text": [
      "Hello Karthick\n"
     ]
    }
   ],
   "source": [
    "age=20\n",
    "price = 19.95\n",
    "first_name= 'Karthick'\n",
    "is_online = False\n",
    "print(age)\n",
    "name = input(\"what's your name?:\")\n",
    "print(\"Hello \"+name)"
   ]
  },
  {
   "cell_type": "code",
   "execution_count": null,
   "metadata": {},
   "outputs": [],
   "source": [
    "birth_year = input (\"Enter your birth year:\")\n",
    "age=2020-int(birth_year)\n",
    "print(\"Your age is:\"+str(age))"
   ]
  },
  {
   "cell_type": "markdown",
   "metadata": {},
   "source": [
    "## Strings in Python\n",
    "- Python's string manipulation capabilities enable efficient text processing and manipulation. \n",
    "- Strings are sequences of characters enclosed in quotes and offer various operations for modification, searching, and replacement."
   ]
  },
  {
   "cell_type": "code",
   "execution_count": 10,
   "metadata": {},
   "outputs": [
    {
     "name": "stdout",
     "output_type": "stream",
     "text": [
      "Original String:Python for Beginners\n",
      "Uppercase String:PYTHON FOR BEGINNERS\n",
      "Lowercase String:python for beginners\n",
      "Finding y position in string:1\n",
      "Replace 'for' with '4' string:Python 4 Beginners\n",
      "Getting Boolean of presence/absence of word Python in String:\n",
      "True\n"
     ]
    }
   ],
   "source": [
    "course = \"Python for Beginners\"\n",
    "print(\"Original String:\"+course)\n",
    "print(\"Uppercase String:\"+course.upper())\n",
    "print(\"Lowercase String:\"+course.lower())\n",
    "print(\"Finding y position in string:\"+str(course.find('y')))\n",
    "print(\"Replace 'for' with '4' string:\"+course.replace('for','4'))\n",
    "print(\"Getting Boolean of presence/absence of word Python in String:\")\n",
    "print(\"Python\" in course)"
   ]
  },
  {
   "cell_type": "markdown",
   "metadata": {},
   "source": [
    "## Arithmetic and Boolean Operations\n",
    "- Python supports arithmetic operations such as addition, subtraction, multiplication, and division, as well as modulo and exponentiation. \n",
    "- Boolean operations include comparisons (>, <, >=, <=, ==, !=) and logical operators (and, or, not) for evaluating conditions."
   ]
  },
  {
   "cell_type": "code",
   "execution_count": 6,
   "metadata": {},
   "outputs": [
    {
     "name": "stdout",
     "output_type": "stream",
     "text": [
      "3.3333333333333335\n",
      "3\n",
      "1\n",
      "1000\n",
      "10\n",
      "13\n",
      "48\n",
      "True\n",
      "False\n",
      "False\n",
      "True\n",
      "True\n",
      "False\n",
      "True\n"
     ]
    }
   ],
   "source": [
    "print(10/3)\n",
    "print(10//3)\n",
    "print(10%3)\n",
    "print(10**3)\n",
    "\n",
    "x=10\n",
    "print(x)\n",
    "x= x+3\n",
    "print(x)\n",
    "x +=3\n",
    "x *=3\n",
    "print(x)\n",
    "x=3\n",
    "print(x>2)\n",
    "print(x<2)\n",
    "print(x==2)\n",
    "print(x!=2)\n",
    "print(x>2 or x <2)\n",
    "print(x>2 and x <2)\n",
    "print(not x==2)"
   ]
  },
  {
   "cell_type": "markdown",
   "metadata": {},
   "source": [
    "## Basic Calculator Exercise\n",
    "- Demonstrates simple arithmetic operations and formatting output."
   ]
  },
  {
   "cell_type": "code",
   "execution_count": 9,
   "metadata": {},
   "outputs": [
    {
     "name": "stdout",
     "output_type": "stream",
     "text": [
      "First:1\n",
      "Second:2\n",
      "Sum:3.0\n",
      "Difference:-1.0\n"
     ]
    }
   ],
   "source": [
    "First_No = input (\"First:\")\n",
    "Second_No = input (\"Second:\")\n",
    "print(\"Sum:\" +str(float(First_No)+float(Second_No)))\n",
    "print(\"Difference:\" +str(float(First_No)-float(Second_No)))"
   ]
  },
  {
   "cell_type": "markdown",
   "metadata": {},
   "source": [
    "## If-Else Statements\n",
    "- Conditional statements in Python, such as if, elif, and else, enable branching based on different conditions. \n",
    "- This allows the program to execute specific code blocks based on the evaluation of conditions."
   ]
  },
  {
   "cell_type": "code",
   "execution_count": 2,
   "metadata": {},
   "outputs": [
    {
     "name": "stdout",
     "output_type": "stream",
     "text": [
      "It'sa cold day\n",
      "Drink plenty of Beer\n"
     ]
    }
   ],
   "source": [
    "temperature = 9\n",
    "\n",
    "if temperature > 30:\n",
    "    print(\"It's a hot day\")\n",
    "    print('Drink plenty of water')\n",
    "elif temperature > 20:\n",
    "    print(\"It's nice day\")\n",
    "    print('Drink Bottle of Beer')\n",
    "elif temperature > 10:\n",
    "    print(\" It's a bit cold day\")\n",
    "    print(\"Drink more Beer\")\n",
    "else:\n",
    "    print(\"It'sa cold day\")\n",
    "    print('Drink plenty of Beer')"
   ]
  },
  {
   "cell_type": "markdown",
   "metadata": {},
   "source": [
    "## Weight Converter Exercise\n",
    "- This exercise showcases conditional statements in Python to create a weight converter. \n",
    "- It demonstrates how to handle user input and convert between different units (kilograms and pounds).\n",
    "- Illustrates conditional statements for unit conversion between kilograms and pounds."
   ]
  },
  {
   "cell_type": "code",
   "execution_count": 8,
   "metadata": {},
   "outputs": [
    {
     "name": "stdout",
     "output_type": "stream",
     "text": [
      "What's your Weight?:70\n",
      "Is this in Kg (K) or Lbs (L)?:k\n",
      "Weight in Lbs:154.3234\n"
     ]
    }
   ],
   "source": [
    "Weight = float(input(\"What's your Weight?:\"))\n",
    "unit = input(\"Is this in Kg (K) or Lbs (L)?:\")\n",
    "\n",
    "if unit == \"K\" or unit == \"k\":\n",
    "    New_weight = Weight*2.20462\n",
    "    print(\"Weight in Lbs:\"+str(New_weight))\n",
    "elif unit == \"L\" or unit == \"l\":\n",
    "    New_weight = Weight/2.20462\n",
    "    print(\"Weight in kg:\"+str(New_weight))\n",
    "else:\n",
    "    print(\"Enter the weight in either Kg or Lbs\")\n",
    "    \n",
    "    "
   ]
  },
  {
   "cell_type": "markdown",
   "metadata": {},
   "source": [
    "## While Loops\n",
    "- Python's while loop repeats a block of code as long as a specified condition is true. \n",
    "- It's useful for iterating over a sequence of items or performing tasks until a certain condition is met."
   ]
  },
  {
   "cell_type": "code",
   "execution_count": 1,
   "metadata": {},
   "outputs": [
    {
     "name": "stdout",
     "output_type": "stream",
     "text": [
      "*\n",
      "**\n",
      "***\n",
      "****\n",
      "*****\n"
     ]
    }
   ],
   "source": [
    "i=1\n",
    "while i <=5:\n",
    "    print(i*\"*\")\n",
    "    i=i+1"
   ]
  },
  {
   "cell_type": "markdown",
   "metadata": {},
   "source": [
    "## For Loops\n",
    "-  Python's for loop iterates over a sequence (such as a list, tuple, or string) and executes a block of code for each item in the sequence. \n",
    "- It simplifies iteration tasks and is commonly used in data processing and looping through collections."
   ]
  },
  {
   "cell_type": "code",
   "execution_count": null,
   "metadata": {},
   "outputs": [],
   "source": [
    "numbers = [1,2,3,4,5]\n",
    "for item in numbers:\n",
    "    print(item)\n",
    "\n",
    "for number in range(6,16,2):\n",
    "    print(number)"
   ]
  },
  {
   "cell_type": "markdown",
   "metadata": {},
   "source": [
    "## Drawing a Arrow using Functions and For Loop\n",
    "- Python functions allow the creation of reusable code blocks, enhancing code modularity and readability. \n",
    "- This example illustrates how to define and utilize functions to draw patterns using loops."
   ]
  },
  {
   "cell_type": "code",
   "execution_count": 5,
   "metadata": {},
   "outputs": [
    {
     "name": "stdout",
     "output_type": "stream",
     "text": [
      "             *\n",
      "             **\n",
      "             ***\n",
      "             ****\n",
      "             *****\n",
      "************ ******\n",
      "             *****\n",
      "             ****\n",
      "             ***\n",
      "             **\n",
      "             *\n"
     ]
    }
   ],
   "source": [
    "def arrow(n):\n",
    "    for i in range(n):\n",
    "        if i== n-1:\n",
    "            print((2*n)* \"*\",end=\" \")\n",
    "            print((i+1)*\"*\")\n",
    "        else:\n",
    "            print((2*n)*\" \",end=\" \")\n",
    "            print((i+1)*\"*\")\n",
    "            \n",
    "    for j in range(n-1,0,-1):\n",
    "        print((2*n)*\" \",end=\" \")\n",
    "        print(j*\"*\")\n",
    "\n",
    "arrow(6)"
   ]
  },
  {
   "cell_type": "markdown",
   "metadata": {},
   "source": [
    "## Lists\n",
    " - Lists are versatile data structures in Python that store collections of items. \n",
    " - They support dynamic resizing, insertion, deletion, and manipulation of elements. \n",
    " - Lists are commonly used for storing and processing sequences of data."
   ]
  },
  {
   "cell_type": "code",
   "execution_count": 4,
   "metadata": {},
   "outputs": [
    {
     "name": "stdout",
     "output_type": "stream",
     "text": [
      "Printing List of Names in order\n",
      "John\n",
      "Bob\n",
      "Mosh\n",
      "Sam\n",
      "Mary\n",
      "Printing List of Names in reverse order\n",
      "Mary\n",
      "Sam\n",
      "Mosh\n",
      "Bob\n",
      "John\n"
     ]
    }
   ],
   "source": [
    "names=[\"John\",\"Bob\",\"Mosh\",\"Sam\",\"Mary\"]\n",
    "i = 0\n",
    "print(\"Printing List of Names in order\")\n",
    "while i <=len(names)-1:\n",
    "    print(names[i])\n",
    "    i=i+1\n",
    "\n",
    "print(\"Printing List of Names in reverse order\")\n",
    "j=len(names)-1\n",
    "while j >=0:\n",
    "    print(names[j])\n",
    "    j=j-1"
   ]
  },
  {
   "cell_type": "markdown",
   "metadata": {},
   "source": [
    "## List Methods\n",
    "-  Python's list methods offer efficient ways to manipulate lists, including adding, inserting, removing, and clearing elements. \n",
    "- These methods provide flexibility and ease in working with lists."
   ]
  },
  {
   "cell_type": "code",
   "execution_count": 3,
   "metadata": {},
   "outputs": [
    {
     "name": "stdout",
     "output_type": "stream",
     "text": [
      "[1, 2, 3, 4, 5]\n",
      "[1, 2, 3, 4, 5, 6]\n",
      "[7, 1, 2, 3, 4, 5, 6]\n",
      "[7, 1, 2, 4, 5, 6]\n",
      "True\n",
      "False\n",
      "6\n",
      "[]\n"
     ]
    }
   ],
   "source": [
    "numbers = [1,2,3,4,5]\n",
    "print(numbers)\n",
    "len(numbers)\n",
    "numbers.append(6)\n",
    "print(numbers)\n",
    "numbers.insert(0,7)\n",
    "print(numbers)\n",
    "numbers.remove(3)\n",
    "print(numbers)\n",
    "print ( 1 in numbers)\n",
    "print ( 10 in numbers)\n",
    "print(len(numbers))\n",
    "numbers.clear()\n",
    "print(numbers)\n"
   ]
  },
  {
   "cell_type": "markdown",
   "metadata": {},
   "source": [
    "## Tuples\n",
    "- Tuples are immutable sequences of elements, often used for grouping related data. \n",
    "- They offer efficient storage and retrieval of data and can be used as keys in dictionaries or elements in sets."
   ]
  },
  {
   "cell_type": "code",
   "execution_count": null,
   "metadata": {},
   "outputs": [],
   "source": [
    "numbers = (1,2,3)\n",
    "# Unchangeable"
   ]
  }
 ],
 "metadata": {
  "kernelspec": {
   "display_name": "Python 3",
   "language": "python",
   "name": "python3"
  },
  "language_info": {
   "codemirror_mode": {
    "name": "ipython",
    "version": 3
   },
   "file_extension": ".py",
   "mimetype": "text/x-python",
   "name": "python",
   "nbconvert_exporter": "python",
   "pygments_lexer": "ipython3",
   "version": "3.7.7"
  }
 },
 "nbformat": 4,
 "nbformat_minor": 2
}
