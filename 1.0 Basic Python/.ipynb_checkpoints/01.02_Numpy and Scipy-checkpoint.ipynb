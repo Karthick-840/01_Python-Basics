{
 "cells": [
  {
   "cell_type": "markdown",
   "metadata": {},
   "source": [
    "# Numpy and Scipy Operations in Jupyter Notebook\n",
    "## Numpy Tutorial"
   ]
  },
  {
   "cell_type": "markdown",
   "metadata": {},
   "source": [
    "## The Basics (Creating arrays,Shape, Size, Data Type)\n",
    "- Demonstrates basic array creation using `np.array`.\n",
    "- Introduces the concept of dimensions, shape, size, data type, item size, number of elements, and total size.\n",
    "- Explains how to create arrays with specific data types."
   ]
  },
  {
   "cell_type": "code",
   "execution_count": null,
   "metadata": {},
   "outputs": [],
   "source": [
    "import numpy as np\n",
    "import sys"
   ]
  },
  {
   "cell_type": "code",
   "execution_count": null,
   "metadata": {},
   "outputs": [],
   "source": [
    "a= np.array([1,2,3],dtype='int32')\n",
    "print(a)"
   ]
  },
  {
   "cell_type": "code",
   "execution_count": null,
   "metadata": {},
   "outputs": [],
   "source": [
    "b = np.array([[9,8,7],[6,5,4],[0,0,0]])\n",
    "print(b)"
   ]
  },
  {
   "cell_type": "code",
   "execution_count": null,
   "metadata": {},
   "outputs": [],
   "source": [
    "c = np.array([[[9.0,8.0,7.0],[6.0,5.0,4.0],[0.0,0.0,0.0]],[[7.0,9.0,8.0],[0.0,0.0,0.0],[1.0,2.0,3.0]],[[4.0,3.0,2.0],[1.0,7.0,5.0],[6.0,6.0,6.0]]])\n",
    "print(c)"
   ]
  },
  {
   "cell_type": "code",
   "execution_count": null,
   "metadata": {},
   "outputs": [],
   "source": [
    "print(\"\\n# Get Dimensions\")\n",
    "print(a.ndim)\n",
    "print(b.ndim)\n",
    "print(c.ndim)\n",
    "print(\"\\n#Get Shape\")\n",
    "print(a.shape)\n",
    "print(b.shape)\n",
    "print(c.shape)\n",
    "print(\"\\n#Get Type\")\n",
    "print(a.dtype)\n",
    "print(b.dtype)\n",
    "print(c.dtype)\n",
    "print(\"\\n#Get Element Size\")\n",
    "print(a.itemsize)\n",
    "print(b.itemsize)\n",
    "print(c.itemsize)\n",
    "print(\"\\n#Get No. of Elements\")\n",
    "print(a.size)\n",
    "print(b.size)\n",
    "print(c.size)\n",
    "print(\"\\n#Get Total Size\")\n",
    "print(a.size*a.itemsize)\n",
    "print(b.size*b.itemsize)\n",
    "print(c.size*c.itemsize)\n",
    "print(\"\\n#Get Total Size in Single Command\")\n",
    "print(a.nbytes)\n",
    "print(b.nbytes)\n",
    "print(c.nbytes)"
   ]
  },
  {
   "cell_type": "markdown",
   "metadata": {},
   "source": [
    "## Accesing/Changing Elements\n",
    "- Shows how to access and modify elements of an array using indexing and slicing.\n",
    "- Provides examples of accessing rows, columns, and individual elements."
   ]
  },
  {
   "cell_type": "code",
   "execution_count": null,
   "metadata": {},
   "outputs": [],
   "source": [
    "a = np.array([[1,2,3,4,5,6,7,8,9],[0,9,8,7,6,5,4,3,2]])\n",
    "print(a)"
   ]
  },
  {
   "cell_type": "code",
   "execution_count": null,
   "metadata": {},
   "outputs": [],
   "source": [
    "# To get 8, use row and column index\n",
    "a[0,7]\n",
    "# also can give reverse identification\n",
    "a[0,-2]"
   ]
  },
  {
   "cell_type": "code",
   "execution_count": null,
   "metadata": {},
   "outputs": [],
   "source": [
    "# Getting specific row\n",
    "a[0,:]"
   ]
  },
  {
   "cell_type": "code",
   "execution_count": null,
   "metadata": {},
   "outputs": [],
   "source": [
    "# Getting specific column\n",
    "a[:,0]"
   ]
  },
  {
   "cell_type": "code",
   "execution_count": null,
   "metadata": {},
   "outputs": [],
   "source": [
    "#Chaning elements\n",
    "print(a)\n",
    "a[0,7]=15\n",
    "print(a)\n",
    "a[:,3]=13\n",
    "print(a)\n"
   ]
  },
  {
   "cell_type": "code",
   "execution_count": null,
   "metadata": {},
   "outputs": [],
   "source": [
    "b= np.array([[[1,2],[3,4]],[[5,6],[7,8]]])\n",
    "print(b)"
   ]
  },
  {
   "cell_type": "code",
   "execution_count": null,
   "metadata": {},
   "outputs": [],
   "source": [
    "# Get specific element in 3D array (work outside in)\n",
    "\n",
    "b[0,1,:]"
   ]
  },
  {
   "cell_type": "code",
   "execution_count": null,
   "metadata": {},
   "outputs": [],
   "source": [
    "print(b)\n",
    "b[1,:,:] = ([[9,8],[7,6]])\n",
    "print(b)"
   ]
  },
  {
   "cell_type": "markdown",
   "metadata": {},
   "source": [
    "## Initializing Different Types of Arrays\n",
    "- Illustrates various methods to create arrays with zeros, ones, specific values, random values, and identity matrix.\n",
    "- Discusses reshaping arrays and repeating elements."
   ]
  },
  {
   "cell_type": "code",
   "execution_count": null,
   "metadata": {},
   "outputs": [],
   "source": [
    "#Get all zeros Numpy Array\n",
    "np.zeros(5)\n",
    "np.zeros((3,3,3))\n"
   ]
  },
  {
   "cell_type": "code",
   "execution_count": null,
   "metadata": {},
   "outputs": [],
   "source": [
    "# Get all ones Numpty Array\n",
    "np.ones((2,2,2),dtype='int32')"
   ]
  },
  {
   "cell_type": "code",
   "execution_count": null,
   "metadata": {},
   "outputs": [],
   "source": [
    "# Get a all similar element array of specific number\n",
    "np.full((2,2),99,dtype='float32')"
   ]
  },
  {
   "cell_type": "code",
   "execution_count": null,
   "metadata": {},
   "outputs": [],
   "source": [
    "# get an array of similar size of an exsiting array\n",
    "c = np.full_like(a,5)\n",
    "print(c)\n"
   ]
  },
  {
   "cell_type": "code",
   "execution_count": null,
   "metadata": {},
   "outputs": [],
   "source": [
    "# Random Decimal numbers\n",
    "np.random.rand(3,3)\n",
    "np.random.random_sample(a.shape)"
   ]
  },
  {
   "cell_type": "code",
   "execution_count": null,
   "metadata": {},
   "outputs": [],
   "source": [
    "# Random Integer numbers\n",
    "np.random.randint(4,size=(3,3))"
   ]
  },
  {
   "cell_type": "code",
   "execution_count": null,
   "metadata": {},
   "outputs": [],
   "source": [
    "# Random intger with start and finish\n",
    "np.random.randint(-4,8,size=(3,3))"
   ]
  },
  {
   "cell_type": "code",
   "execution_count": null,
   "metadata": {},
   "outputs": [],
   "source": [
    "# Indeitify Matrix\n",
    "np.identity(5)"
   ]
  },
  {
   "cell_type": "code",
   "execution_count": null,
   "metadata": {},
   "outputs": [],
   "source": [
    "#Repeating an Array\n",
    "print(a)\n",
    "print(np.repeat(a,3,axis=0))\n",
    "print(np.repeat(a,3,axis=1))"
   ]
  },
  {
   "cell_type": "code",
   "execution_count": null,
   "metadata": {},
   "outputs": [],
   "source": [
    "# New Task\n",
    "z=np.ones((5,5),dtype='int32')\n",
    "print(z)\n",
    "z[1:-1,1:-1]=0\n",
    "print(z)\n",
    "z[2,2] =9\n",
    "print(z)\n"
   ]
  },
  {
   "cell_type": "markdown",
   "metadata": {},
   "source": [
    "### Be careful when copying arrays"
   ]
  },
  {
   "cell_type": "code",
   "execution_count": null,
   "metadata": {},
   "outputs": [],
   "source": [
    "d = np.array([1,2,3])\n",
    "print(d)\n",
    "e=d\n",
    "print(e)\n",
    "e[0]=100\n",
    "print(e)\n",
    "print(d)\n",
    "\n",
    "f= d.copy()\n",
    "print(f)\n",
    "f[0]=200\n",
    "print(f)\n",
    "print(d)"
   ]
  },
  {
   "cell_type": "markdown",
   "metadata": {},
   "source": [
    "## Mathematics\n",
    "- Performs basic mathematical operations such as addition, subtraction, multiplication, division, exponentiation, and trigonometric functions on arrays.\n",
    "- Demonstrates element-wise operations and broadcasting."
   ]
  },
  {
   "cell_type": "code",
   "execution_count": null,
   "metadata": {},
   "outputs": [],
   "source": [
    "g = np.array([1,2,3,4])\n",
    "print(g)"
   ]
  },
  {
   "cell_type": "code",
   "execution_count": null,
   "metadata": {},
   "outputs": [],
   "source": [
    "print(g+2,g-2,g*2,g/2, g **2)"
   ]
  },
  {
   "cell_type": "code",
   "execution_count": null,
   "metadata": {},
   "outputs": [],
   "source": [
    "print(np.sin(g), np.cos(g))"
   ]
  },
  {
   "cell_type": "code",
   "execution_count": null,
   "metadata": {},
   "outputs": [],
   "source": [
    "h = np.array([5,6,7,8])"
   ]
  },
  {
   "cell_type": "code",
   "execution_count": null,
   "metadata": {},
   "outputs": [],
   "source": [
    "print(g+h,g-h,g*h,g/h)"
   ]
  },
  {
   "cell_type": "markdown",
   "metadata": {},
   "source": [
    "### Linear Algebra\n",
    "- Conducts linear algebra operations including matrix multiplication, determinant calculation, and identity matrix creation.\n",
    "- Covers additional operations like trace and singular value decomposition."
   ]
  },
  {
   "cell_type": "code",
   "execution_count": null,
   "metadata": {},
   "outputs": [],
   "source": [
    "i = np.ones((2,3))\n",
    "print(i)\n",
    "j = np.full((3,2),2)\n",
    "print(j)\n",
    "print(np.matmul(i,j))\n",
    "# Finding the determinant\n",
    "print(np.identity(3))\n",
    "np.linalg.det(np.identity(3))\n",
    "\n",
    "# Determinant\n",
    "#Trace\n",
    "# Singular Vector Decompositoin\n",
    "#Eigen values\n",
    "# matrix Multiplication\n",
    "# Inverse\n",
    "# Etc...!"
   ]
  },
  {
   "cell_type": "markdown",
   "metadata": {},
   "source": [
    "## Statistics\n",
    "- Computes basic statistics such as minimum, maximum, sum, along with operations for reorganizing arrays.\n",
    "- Provides examples of boolean masking and advanced indexing."
   ]
  },
  {
   "cell_type": "code",
   "execution_count": null,
   "metadata": {},
   "outputs": [],
   "source": [
    "np.min(g)\n",
    "np.max(a,axis=1)"
   ]
  },
  {
   "cell_type": "code",
   "execution_count": null,
   "metadata": {},
   "outputs": [],
   "source": [
    "np.sum(a,axis=0)"
   ]
  },
  {
   "cell_type": "markdown",
   "metadata": {},
   "source": [
    "## Miscellaneous\n",
    "- Demonstrates array masking, advanced indexing, and copying arrays.\n",
    "- Covers loading data from files and boolean masking with advanced indexing."
   ]
  },
  {
   "cell_type": "markdown",
   "metadata": {},
   "source": [
    "### Reorganising Array"
   ]
  },
  {
   "cell_type": "code",
   "execution_count": null,
   "metadata": {},
   "outputs": [],
   "source": [
    "print(a)\n",
    "a.reshape(18,1)\n",
    "a.reshape(1,18)"
   ]
  },
  {
   "cell_type": "markdown",
   "metadata": {},
   "source": [
    "### Vertical staking"
   ]
  },
  {
   "cell_type": "code",
   "execution_count": null,
   "metadata": {},
   "outputs": [],
   "source": [
    "# Horizontal Staking\n",
    "\n",
    "print(i)\n",
    "print(j)\n",
    "np.hstack([j,i.reshape(3,2)])"
   ]
  },
  {
   "cell_type": "markdown",
   "metadata": {},
   "source": [
    "### Load Data from File"
   ]
  },
  {
   "cell_type": "code",
   "execution_count": null,
   "metadata": {},
   "outputs": [],
   "source": [
    "final_data = np.genfromtext('data.txt',delimiter=',')"
   ]
  },
  {
   "cell_type": "code",
   "execution_count": null,
   "metadata": {},
   "outputs": [],
   "source": [
    "final_data = np.array([[1,2,3,4,5,6,7,8,9],[0,0,0,0,0,0,0,0,0],[9,8,7,6,5,4,3,2,1]])\n",
    "print(final_data)\n",
    "print(final_data.dtype)\n",
    "final_data = final_data.astype('float32')\n",
    "print(final_data.dtype)"
   ]
  },
  {
   "cell_type": "markdown",
   "metadata": {},
   "source": [
    "### Boolaen Masking and Advanced Indexing"
   ]
  },
  {
   "cell_type": "code",
   "execution_count": null,
   "metadata": {},
   "outputs": [],
   "source": [
    "final_data >=5"
   ]
  },
  {
   "cell_type": "code",
   "execution_count": null,
   "metadata": {},
   "outputs": [],
   "source": [
    "final_data[final_data>=5]"
   ]
  },
  {
   "cell_type": "code",
   "execution_count": null,
   "metadata": {},
   "outputs": [],
   "source": [
    "print(np.any(final_data >=5,axis=1))\n",
    "print(np.any(final_data >=5,axis=0))"
   ]
  },
  {
   "cell_type": "code",
   "execution_count": null,
   "metadata": {},
   "outputs": [],
   "source": [
    "print(np.all(final_data >=5,axis=1))\n",
    "print(np.all(final_data >=5,axis=0))"
   ]
  },
  {
   "cell_type": "code",
   "execution_count": null,
   "metadata": {},
   "outputs": [],
   "source": [
    "print(((final_data <= 5) & (final_data >= 3)))\n",
    "print(~((final_data <= 5) & (final_data >= 3)))\n",
    "print(((final_data <= 5) | (final_data >= 3)))"
   ]
  },
  {
   "cell_type": "code",
   "execution_count": null,
   "metadata": {},
   "outputs": [],
   "source": [
    "numbers = range(1,31)\n",
    "sequence_of_numbers = []\n",
    "for number in numbers:\n",
    "      sequence_of_numbers.append(number)\n",
    "\n",
    "print(sequence_of_numbers)\n",
    "a = np.copy(sequence_of_numbers)\n",
    "print(a)\n",
    "b = a.reshape(6,5)\n",
    "print(b)\n",
    "print(b[2:4,0:2])\n",
    "print(b[[0,1,2,3],[1,2,3,4]])\n",
    "\n"
   ]
  },
  {
   "cell_type": "markdown",
   "metadata": {},
   "source": [
    "## Scipy\n",
    "- Overview of the clustering package in Scipy, including vector quantization, k-means, and hierarchical clustering.\n",
    "- Provides examples of clustering algorithms and their applications."
   ]
  },
  {
   "cell_type": "code",
   "execution_count": null,
   "metadata": {},
   "outputs": [],
   "source": [
    "import scipy\n",
    "from scipy import cluster"
   ]
  },
  {
   "cell_type": "code",
   "execution_count": null,
   "metadata": {},
   "outputs": [],
   "source": [
    "help(cluster)"
   ]
  },
  {
   "cell_type": "code",
   "execution_count": null,
   "metadata": {},
   "outputs": [],
   "source": [
    "scipy.info(cluster)"
   ]
  },
  {
   "cell_type": "markdown",
   "metadata": {},
   "source": [
    "## Special Fundtion Exp and Tri\n",
    "- Utilizes special functions like exponentiation and trigonometric functions.\n",
    "- Demonstrates how to use these functions for various mathematical calculations."
   ]
  },
  {
   "cell_type": "code",
   "execution_count": null,
   "metadata": {},
   "outputs": [],
   "source": [
    "from scipy import special\n",
    "a= special.exp10(2)\n",
    "print(a)\n",
    "b=special.exp2(3)\n",
    "print(b)\n",
    "c= special.sindg(90)\n",
    "print(c)"
   ]
  },
  {
   "cell_type": "markdown",
   "metadata": {},
   "source": [
    "## Integration Functions\n",
    "- Demonstrates integration functions for calculating definite integrals.\n",
    "- Provides examples of using lambda functions for integration."
   ]
  },
  {
   "cell_type": "code",
   "execution_count": null,
   "metadata": {},
   "outputs": [],
   "source": [
    "from scipy import integrate\n"
   ]
  },
  {
   "cell_type": "code",
   "execution_count": null,
   "metadata": {},
   "outputs": [],
   "source": [
    "i=integrate.quad(lambda x:special.exp10(10,0,1))\n",
    "print(i)\n",
    "\n",
    "e = lambda x,y: x*y**2\n",
    "f = lambda x: 1\n",
    "g = lambda x: -1\n",
    "integrade.dblquad(e,0,2,f,g)"
   ]
  },
  {
   "cell_type": "markdown",
   "metadata": {},
   "source": [
    "## Fourier Transformations\n",
    "- Performs Fourier transformations using FFT and iFFT.\n",
    "- Discusses applications of Fourier transformations in signal processing and data analysis."
   ]
  },
  {
   "cell_type": "code",
   "execution_count": null,
   "metadata": {},
   "outputs": [],
   "source": [
    "from scipy.fftpack import fft, ifft\n",
    "import numpy as np\n",
    "x= np.array([1,2,3])\n",
    "y = fft(x)\n",
    "print(y)\n",
    "z = ifft(x)\n",
    "print(z)\n"
   ]
  },
  {
   "cell_type": "markdown",
   "metadata": {},
   "source": [
    "## Linear Algebra\n",
    "- Shows linear algebra operations such as matrix inversion.\n",
    "- Provides examples of solving systems of linear equations using matrix operations."
   ]
  },
  {
   "cell_type": "code",
   "execution_count": null,
   "metadata": {},
   "outputs": [],
   "source": [
    "from scipy import linalg\n",
    "a= np.array([[1,2],[3,4]])\n",
    "b= linalg.inv(a)\n",
    "print(b)"
   ]
  },
  {
   "cell_type": "markdown",
   "metadata": {},
   "source": [
    "## Interpolation Functions\n",
    "- Overview of interpolation functions available in Scipy.\n",
    "- Demonstrates interpolation methods such as linear, cubic, and spline interpolation."
   ]
  },
  {
   "cell_type": "code",
   "execution_count": null,
   "metadata": {},
   "outputs": [],
   "source": []
  }
 ],
 "metadata": {
  "kernelspec": {
   "display_name": "Python 3",
   "language": "python",
   "name": "python3"
  },
  "language_info": {
   "codemirror_mode": {
    "name": "ipython",
    "version": 3
   },
   "file_extension": ".py",
   "mimetype": "text/x-python",
   "name": "python",
   "nbconvert_exporter": "python",
   "pygments_lexer": "ipython3",
   "version": "3.7.7"
  }
 },
 "nbformat": 4,
 "nbformat_minor": 2
}
