{
 "cells": [
  {
   "cell_type": "markdown",
   "metadata": {},
   "source": [
    "<h1 style = \"font-size:3rem;color:orange;\">Jupyter and Python Tutorial </h1>"
   ]
  },
  {
   "cell_type": "markdown",
   "metadata": {},
   "source": [
    "# 6hr Python and Jupyter Training"
   ]
  },
  {
   "cell_type": "markdown",
   "metadata": {},
   "source": [
    "### Importing image and seeing here"
   ]
  },
  {
   "cell_type": "markdown",
   "metadata": {},
   "source": [
    "<img src = \"https://5.imimg.com/data5/QY/TP/MZ/SELLER-10578244/python-training-course-500x500.jpeg\">"
   ]
  },
  {
   "cell_type": "markdown",
   "metadata": {},
   "source": [
    "## Basics and Variables"
   ]
  },
  {
   "cell_type": "code",
   "execution_count": 3,
   "metadata": {},
   "outputs": [
    {
     "name": "stdout",
     "output_type": "stream",
     "text": [
      "Hello World!\n"
     ]
    }
   ],
   "source": [
    "print(\"Hello World!\")"
   ]
  },
  {
   "cell_type": "code",
   "execution_count": 4,
   "metadata": {},
   "outputs": [
    {
     "name": "stdout",
     "output_type": "stream",
     "text": [
      "20\n"
     ]
    },
    {
     "name": "stdin",
     "output_type": "stream",
     "text": [
      "what's your name?: Karthick\n"
     ]
    },
    {
     "name": "stdout",
     "output_type": "stream",
     "text": [
      "Hello Karthick\n"
     ]
    }
   ],
   "source": [
    "age=20\n",
    "price = 19.95\n",
    "first_name= 'Karthick'\n",
    "is_online = False\n",
    "print(age)\n",
    "name = input(\"what's your name?:\")\n",
    "print(\"Hello \"+name)"
   ]
  },
  {
   "cell_type": "code",
   "execution_count": null,
   "metadata": {},
   "outputs": [],
   "source": [
    "birth_year = input (\"Enter your birth year:\")\n",
    "age=2020-int(birth_year)\n",
    "print(\"Your age is:\"+str(age))"
   ]
  },
  {
   "cell_type": "markdown",
   "metadata": {},
   "source": [
    "## Basic Calculator Exercise"
   ]
  },
  {
   "cell_type": "code",
   "execution_count": null,
   "metadata": {},
   "outputs": [],
   "source": [
    "First_No = input (\"First:\")\n",
    "Second_No = input (\"Second:\")\n",
    "print(\"Sum:\" +str(float(First_No)+float(Second_No)))\n",
    "print(\"Difference:\" +str(float(First_No)-float(Second_No)))"
   ]
  },
  {
   "cell_type": "markdown",
   "metadata": {},
   "source": [
    "## Strings in Python"
   ]
  },
  {
   "cell_type": "code",
   "execution_count": null,
   "metadata": {},
   "outputs": [],
   "source": [
    "course = \"Python for Beginners\"\n",
    "print(\"Original String:\"+course)\n",
    "print(\"Uppercase String:\"+course.upper())\n",
    "print(\"Lowercase String:\"+course.lower())\n",
    "print(\"Finding y position in string:\"+str(course.find('y')))\n",
    "print(\"Replace 'for' with '4' string:\"+course.replace('for','4'))\n",
    "print(\"Getting Boolean of presence/absence of word Python in String:\")\n",
    "print(\"Python\" in course)"
   ]
  },
  {
   "cell_type": "markdown",
   "metadata": {},
   "source": [
    "## Arithmetic and Boolean Operations"
   ]
  },
  {
   "cell_type": "code",
   "execution_count": null,
   "metadata": {},
   "outputs": [],
   "source": [
    "print(10/3)\n",
    "print(10//3)\n",
    "print(10%3)\n",
    "print(10**3)\n",
    "\n",
    "x=10\n",
    "print(x)\n",
    "x= x+3\n",
    "print(x)\n",
    "x +=3\n",
    "x *=3\n",
    "print(x)\n",
    "x=3\n",
    "print(x>2)\n",
    "print(x<2)\n",
    "print(x==2)\n",
    "print(x!=2)\n",
    "print(x>2 or x <2)\n",
    "print(x>2 and x <2)\n",
    "print(not x==2)"
   ]
  },
  {
   "cell_type": "markdown",
   "metadata": {},
   "source": [
    "## If-Else Statements"
   ]
  },
  {
   "cell_type": "code",
   "execution_count": null,
   "metadata": {},
   "outputs": [],
   "source": [
    "temperature = 9\n",
    "\n",
    "if temperature > 30:\n",
    "    print(\"It's a hot day\")\n",
    "    print('Drink plenty of water')\n",
    "elif temperature > 20:\n",
    "    print(\"It's nice day\")\n",
    "    print('Drink Bottle of Beer')\n",
    "elif temperature > 10:\n",
    "    print(\" It's a bit cold day\")\n",
    "    print(\"Drink more Beer\")\n",
    "else:\n",
    "    print(\"It'sa cold day\")\n",
    "    print('Drink plenty of Beer')"
   ]
  },
  {
   "cell_type": "markdown",
   "metadata": {},
   "source": [
    "## Weight Converter Exercise"
   ]
  },
  {
   "cell_type": "code",
   "execution_count": null,
   "metadata": {},
   "outputs": [],
   "source": [
    "Weight = float(input(\"What's your Weight?:\"))\n",
    "unit = input(\"Is this in Kg (K) or Lbs (L)?:\")\n",
    "\n",
    "if unit == \"K\" or unit == \"k\":\n",
    "    New_weight = Weight*2.20462\n",
    "    print(\"Weight in kg:\"+str(New_weight))\n",
    "elif unit == \"L\" or unit == \"l\":\n",
    "    New_weight = Weight/2.20462\n",
    "    print(\"Weight in kg:\"+str(New_weight))\n",
    "else:\n",
    "    print(\"Enter the weight in either Kg or Lbs\")\n",
    "    \n",
    "    "
   ]
  },
  {
   "cell_type": "markdown",
   "metadata": {},
   "source": [
    "## While Loops"
   ]
  },
  {
   "cell_type": "code",
   "execution_count": null,
   "metadata": {},
   "outputs": [],
   "source": [
    "i=1\n",
    "while i <=5:\n",
    "    print(i*\"*\")\n",
    "    i=i+1\n",
    "    "
   ]
  },
  {
   "cell_type": "markdown",
   "metadata": {},
   "source": [
    "## Drawing a Arrow using Functions and For Loop"
   ]
  },
  {
   "cell_type": "code",
   "execution_count": null,
   "metadata": {},
   "outputs": [],
   "source": [
    "def arrow(n):\n",
    "    for i in range(n):\n",
    "        if i== n-1:\n",
    "            print((2*n)* \"*\",end=\" \")\n",
    "            print((i+1)*\"*\")\n",
    "        else:\n",
    "            print((2*n)*\" \",end=\" \")\n",
    "            print((i+1)*\"*\")\n",
    "            \n",
    "    for j in range(n-1,0,-1):\n",
    "        print((2*n)*\" \",end=\" \")\n",
    "        print(j*\"*\")\n",
    "\n",
    "arrow(6)"
   ]
  },
  {
   "cell_type": "markdown",
   "metadata": {},
   "source": [
    "## Lists"
   ]
  },
  {
   "cell_type": "code",
   "execution_count": null,
   "metadata": {},
   "outputs": [],
   "source": [
    "names=[\"John\",\"Bob\",\"Mosh\",\"Sam\",\"Mary\"]\n",
    "i = 0\n",
    "print(\"Printing List of Names in order\")\n",
    "while i <=len(names)-1:\n",
    "    print(names[i])\n",
    "    i=i+1\n",
    "\n",
    "print(\"Printing List of Names in reverse order\")\n",
    "j=len(names)-1\n",
    "while j >=0:\n",
    "    print(names[j])\n",
    "    j=j-1"
   ]
  },
  {
   "cell_type": "markdown",
   "metadata": {},
   "source": [
    "## List Methods"
   ]
  },
  {
   "cell_type": "code",
   "execution_count": null,
   "metadata": {},
   "outputs": [],
   "source": [
    "numbers = [1,2,3,4,5]\n",
    "print(numbers)\n",
    "len(numbers)\n",
    "numbers.append(6)\n",
    "print(numbers)\n",
    "numbers.insert(0,7)\n",
    "print(numbers)\n",
    "numbers.remove(3)\n",
    "print(numbers)\n",
    "print ( 1 in numbers)\n",
    "print ( 10 in numbers)\n",
    "print(len(numbers))\n",
    "numbers.clear()\n",
    "print(numbers)\n"
   ]
  },
  {
   "cell_type": "markdown",
   "metadata": {},
   "source": [
    "## For Loops"
   ]
  },
  {
   "cell_type": "code",
   "execution_count": null,
   "metadata": {},
   "outputs": [],
   "source": [
    "numbers = [1,2,3,4,5]\n",
    "for item in numbers:\n",
    "    print(item)\n",
    "\n",
    "for number in range(6,16,2):\n",
    "    print(number)"
   ]
  },
  {
   "cell_type": "markdown",
   "metadata": {},
   "source": [
    "## Tuples"
   ]
  },
  {
   "cell_type": "code",
   "execution_count": null,
   "metadata": {},
   "outputs": [],
   "source": [
    "numbers = (1,2,3)\n",
    "# Unchangeable"
   ]
  },
  {
   "cell_type": "code",
   "execution_count": null,
   "metadata": {},
   "outputs": [],
   "source": []
  }
 ],
 "metadata": {
  "kernelspec": {
   "display_name": "Python 3",
   "language": "python",
   "name": "python3"
  },
  "language_info": {
   "codemirror_mode": {
    "name": "ipython",
    "version": 3
   },
   "file_extension": ".py",
   "mimetype": "text/x-python",
   "name": "python",
   "nbconvert_exporter": "python",
   "pygments_lexer": "ipython3",
   "version": "3.7.9"
  }
 },
 "nbformat": 4,
 "nbformat_minor": 2
}
